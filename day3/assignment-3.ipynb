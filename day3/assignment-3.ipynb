{
 "cells": [
  {
   "cell_type": "markdown",
   "metadata": {},
   "source": [
    "## Module 1: OOP"
   ]
  },
  {
   "cell_type": "code",
   "execution_count": 16,
   "metadata": {},
   "outputs": [],
   "source": [
    "# Problem: Design classes where one is parent & other is child. let child call the parent method. [2 Points]\n",
    "class Parent:\n",
    "    def run_parent_method(self):\n",
    "        return \"This is parent method\"\n",
    "\n",
    "class Child(Parent):\n",
    "    def run_child_method(self):\n",
    "        Parent.run_parent_method(self)\n",
    "        return 'This is child method'\n",
    "\n",
    "assert Child().run_parent_method() == \"This is parent method\"\n",
    "assert Child().run_child_method() == \"This is child method\""
   ]
  },
  {
   "cell_type": "code",
   "execution_count": 17,
   "metadata": {},
   "outputs": [],
   "source": [
    "# Problem: add private varible for unique id that stores genearted uuid.\n",
    "#          write mechanism to access that variable for class instance object.\n",
    "#          you can use `str(uuid.uuid4())` to generate uuid    [4 Points]\n",
    "import uuid\n",
    "\n",
    "class Employee:\n",
    "    \n",
    "    def __init__(self, name, birth_year):\n",
    "        self.__id=str(uuid.uuid1())\n",
    "        self.name = name\n",
    "        self.birth_year = birth_year\n",
    "    def getid(self):\n",
    "        return self.__id\n",
    "emp = Employee(\"Foo\", 1998)\n",
    "generated_uuid = emp.getid() # replace NoImplemented with provate variable\n",
    "assert isinstance(generated_uuid, str)"
   ]
  },
  {
   "cell_type": "markdown",
   "metadata": {},
   "source": [
    "## Module 2: Iterables"
   ]
  },
  {
   "cell_type": "code",
   "execution_count": 18,
   "metadata": {},
   "outputs": [],
   "source": [
    "# Problem: Implement __iter__() and next() method for following class [6 Points]\n",
    "class SquareIterator:\n",
    "    \n",
    "    def __init__(self, limit):\n",
    "        self.limit = limit\n",
    "        self.n = 0\n",
    "    \n",
    "    def __iter__(self):\n",
    "        return self\n",
    "    \n",
    "    # for python3 compatibility\n",
    "    def __next__(self):\n",
    "        return self.next()\n",
    "    \n",
    "    def next(self):\n",
    "        if self.n < self.limit:\n",
    "            result = self.n**2\n",
    "            self.n += 1\n",
    "            return result\n",
    "        else:\n",
    "            raise StopIteration\n",
    "        \n",
    "sq_itr1 = SquareIterator(5)\n",
    "assert list(sq_itr1) == [0, 1, 4, 9, 16]\n",
    "\n",
    "sq_itr1 = SquareIterator(101)\n",
    "assert sum(sq_itr1)  == 338350"
   ]
  },
  {
   "cell_type": "code",
   "execution_count": 19,
   "metadata": {},
   "outputs": [
    {
     "ename": "IndentationError",
     "evalue": "expected an indented block (<ipython-input-19-737f54e2a075>, line 7)",
     "output_type": "error",
     "traceback": [
      "\u001b[1;36m  File \u001b[1;32m\"<ipython-input-19-737f54e2a075>\"\u001b[1;36m, line \u001b[1;32m7\u001b[0m\n\u001b[1;33m    names = [\"Rahul\", \"Shyam\", \"Krupa\", \"Aakash\"]\u001b[0m\n\u001b[1;37m                                                 ^\u001b[0m\n\u001b[1;31mIndentationError\u001b[0m\u001b[1;31m:\u001b[0m expected an indented block\n"
     ]
    }
   ],
   "source": [
    "# Problem: Create student objects with provided list of name and enrollment id using Zip [4 Points]\n",
    "class Student:\n",
    "    \n",
    "    def __init__(self, data):\n",
    "        # TODO: implement this\n",
    "\n",
    "names = [\"Rahul\", \"Shyam\", \"Krupa\", \"Aakash\"]\n",
    "enrollments = [1122, 2345, 1456, 2295]\n",
    "\n",
    "students = []\n",
    "#TODO: implement loop here\n",
    "\n",
    "assert len(students) == 4\n",
    "assert (students[0].name, students[0].roll) == (\"Rahul\", 1122)"
   ]
  },
  {
   "cell_type": "markdown",
   "metadata": {},
   "source": [
    "## Module 3: Data Processing "
   ]
  },
  {
   "cell_type": "code",
   "execution_count": 20,
   "metadata": {},
   "outputs": [
    {
     "name": "stdout",
     "output_type": "stream",
     "text": [
      "Requirement already satisfied: numpy in c:\\users\\hp\\appdata\\local\\programs\\python\\python38\\lib\\site-packages (1.16.1)\n",
      "Requirement already satisfied: pandas in c:\\users\\hp\\appdata\\local\\programs\\python\\python38\\lib\\site-packages (1.0.3)\n",
      "Requirement already satisfied: python-dateutil>=2.6.1 in c:\\users\\hp\\appdata\\local\\programs\\python\\python38\\lib\\site-packages (from pandas) (2.8.1)\n",
      "Requirement already satisfied: pytz>=2017.2 in c:\\users\\hp\\appdata\\local\\programs\\python\\python38\\lib\\site-packages (from pandas) (2019.3)\n",
      "Requirement already satisfied: six>=1.5 in c:\\users\\hp\\appdata\\local\\programs\\python\\python38\\lib\\site-packages (from python-dateutil>=2.6.1->pandas) (1.12.0)\n"
     ]
    }
   ],
   "source": [
    "! pip3 install numpy pandas"
   ]
  },
  {
   "cell_type": "code",
   "execution_count": 21,
   "metadata": {},
   "outputs": [],
   "source": [
    "import numpy as np\n",
    "np.random.seed(40)"
   ]
  },
  {
   "cell_type": "code",
   "execution_count": 22,
   "metadata": {},
   "outputs": [],
   "source": [
    "# Problem: create random integer numpy array with shape (30, 20) and values between 500 & 15000  [2 Points]\n",
    "np_array = np.random.randint(500,15000,size=(30,20))"
   ]
  },
  {
   "cell_type": "code",
   "execution_count": 23,
   "metadata": {},
   "outputs": [
    {
     "name": "stdout",
     "output_type": "stream",
     "text": [
      "min: 511\n",
      "max: 14996\n",
      "mean: 7568.123333333333\n",
      "median: 7428.0\n",
      "stadard deviation: 4297.811894222713\n"
     ]
    }
   ],
   "source": [
    "# Problem: use the array created above an compute following: min, max, mean, median, stadard deviation [2 Points]\n",
    "print(\"min:\",np.min(np_array))\n",
    "print(\"max:\",np.max(np_array))\n",
    "print(\"mean:\",np.mean(np_array))\n",
    "print(\"median:\",np.median(np_array))\n",
    "print(\"stadard deviation:\",np.std(np_array))"
   ]
  },
  {
   "cell_type": "code",
   "execution_count": 24,
   "metadata": {},
   "outputs": [
    {
     "data": {
      "text/html": [
       "<div>\n",
       "<style scoped>\n",
       "    .dataframe tbody tr th:only-of-type {\n",
       "        vertical-align: middle;\n",
       "    }\n",
       "\n",
       "    .dataframe tbody tr th {\n",
       "        vertical-align: top;\n",
       "    }\n",
       "\n",
       "    .dataframe thead th {\n",
       "        text-align: right;\n",
       "    }\n",
       "</style>\n",
       "<table border=\"1\" class=\"dataframe\">\n",
       "  <thead>\n",
       "    <tr style=\"text-align: right;\">\n",
       "      <th></th>\n",
       "      <th>Name</th>\n",
       "      <th>Age</th>\n",
       "      <th>Rating</th>\n",
       "    </tr>\n",
       "  </thead>\n",
       "  <tbody>\n",
       "    <tr>\n",
       "      <td>0</td>\n",
       "      <td>Akash</td>\n",
       "      <td>22</td>\n",
       "      <td>9.2</td>\n",
       "    </tr>\n",
       "    <tr>\n",
       "      <td>1</td>\n",
       "      <td>Samyak</td>\n",
       "      <td>21</td>\n",
       "      <td>8.0</td>\n",
       "    </tr>\n",
       "    <tr>\n",
       "      <td>2</td>\n",
       "      <td>Denish</td>\n",
       "      <td>15</td>\n",
       "      <td>6.7</td>\n",
       "    </tr>\n",
       "    <tr>\n",
       "      <td>3</td>\n",
       "      <td>John</td>\n",
       "      <td>42</td>\n",
       "      <td>9.1</td>\n",
       "    </tr>\n",
       "    <tr>\n",
       "      <td>4</td>\n",
       "      <td>smit</td>\n",
       "      <td>39</td>\n",
       "      <td>8.1</td>\n",
       "    </tr>\n",
       "    <tr>\n",
       "      <td>5</td>\n",
       "      <td>derik</td>\n",
       "      <td>20</td>\n",
       "      <td>7.8</td>\n",
       "    </tr>\n",
       "  </tbody>\n",
       "</table>\n",
       "</div>"
      ],
      "text/plain": [
       "     Name  Age  Rating\n",
       "0   Akash   22     9.2\n",
       "1  Samyak   21     8.0\n",
       "2  Denish   15     6.7\n",
       "3    John   42     9.1\n",
       "4    smit   39     8.1\n",
       "5   derik   20     7.8"
      ]
     },
     "execution_count": 24,
     "metadata": {},
     "output_type": "execute_result"
    }
   ],
   "source": [
    "# Problem: create pandas dataframe with three columns & seven rows. \n",
    "# Name, Age & Rating. Name: Person's name, Age: Person's age, Rating: credit rating out of 10    [3 Points]\n",
    "import pandas as pd\n",
    "\n",
    "df = pd.DataFrame(columns = ['Name', 'Age','Rating'])\n",
    "df['Name']=['Akash','Samyak','Denish','John','smit','derik']\n",
    "df['Age']=[22,21,15,42,39,20]\n",
    "df['Rating']=[9.2,8,6.7,9.1,8.1,7.8]\n",
    "df"
   ]
  },
  {
   "cell_type": "code",
   "execution_count": 25,
   "metadata": {},
   "outputs": [
    {
     "name": "stdout",
     "output_type": "stream",
     "text": [
      "The Average of Age & Rating are:\n",
      " Age       26.50\n",
      "Rating     8.15\n",
      "dtype: float64\n",
      "Rating more than average:\n",
      "0    Akash\n",
      "3     John\n",
      "Name: Name, dtype: object\n"
     ]
    }
   ],
   "source": [
    "# use the abouve dataframe and answer following question\n",
    "# what is average age & rating in dataframe  [1 Points]\n",
    "df_avg =df[[\"Age\",\"Rating\"]].mean()\n",
    "print(\"The Average of Age & Rating are:\\n\" , df_avg)\n",
    "\n",
    "# Give the name for people who has rating more than average [1 Points]\n",
    "avg_rating=df['Rating'].mean()\n",
    "print('Rating more than average:')\n",
    "print(df.loc[df['Rating']>avg_rating,'Name'])\n",
    "\n",
    "\n",
    "# Give the name for person who is oldest [1 Points]\n"
   ]
  }
 ],
 "metadata": {
  "kernelspec": {
   "display_name": "Python 3",
   "language": "python",
   "name": "python3"
  },
  "language_info": {
   "codemirror_mode": {
    "name": "ipython",
    "version": 3
   },
   "file_extension": ".py",
   "mimetype": "text/x-python",
   "name": "python",
   "nbconvert_exporter": "python",
   "pygments_lexer": "ipython3",
   "version": "3.7.4"
  }
 },
 "nbformat": 4,
 "nbformat_minor": 4
}
